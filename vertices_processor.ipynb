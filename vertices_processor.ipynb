{
 "cells": [
  {
   "cell_type": "code",
   "execution_count": 2,
   "metadata": {},
   "outputs": [
    {
     "name": "stdout",
     "output_type": "stream",
     "text": [
      "importing Jupyter notebook from triangle_renderization.ipynb\n"
     ]
    }
   ],
   "source": [
    "import importer\n",
    "import numpy as np\n",
    "import numpy.random as rand\n",
    "import triangle_renderization as trr"
   ]
  },
  {
   "cell_type": "code",
   "execution_count": 3,
   "metadata": {},
   "outputs": [],
   "source": [
    "def repeatedVertices(XY):\n",
    "    return np.array_equal(XY[0,:],XY[1,:]) or np.array_equal(XY[1,:],XY[2,:]) or np.array_equal(XY[2,:],XY[0,:])"
   ]
  },
  {
   "cell_type": "code",
   "execution_count": 4,
   "metadata": {},
   "outputs": [],
   "source": [
    "def randomPolygonVertices(m,n):\n",
    "    \n",
    "    while True:\n",
    "#         Return random integers from low (inclusive) to high (exclusive).\n",
    "#         size : int or tuple of ints, optional\n",
    "        X = rand.randint(low=0,high=m, size=(3,1))\n",
    "        Y = rand.randint(low=0,high=n, size=(3,1))\n",
    "\n",
    "        XY = np.column_stack((X,Y))\n",
    "        \n",
    "        if ~repeatedVertices(XY):\n",
    "            break\n",
    "\n",
    "    return XY\n",
    "\n",
    "def booleanPolygon(m, n, XY, long = False):\n",
    "    if long == True:\n",
    "        XY.shape = (3,2)\n",
    "    bMatrix = np.zeros((m,n))\n",
    "    XY = XY.astype(int)\n",
    "    bMatrix = trr.drawTriangle(bMatrix, XY)\n",
    "    return bMatrix\n",
    "\n",
    "def randomPolygon(m,n):\n",
    "    XY = randomPolygonVertices(m,n)\n",
    "    return booleanPolygon(m, n, XY, long = False)\n",
    "# def booleanPolygon(XY):\n",
    "#     bMatrix = np.zeros(XY.shape)\n",
    "#     bMatrix = trr.drawTriangle(bMatrix, XY)\n",
    "#     return bMatrix\n",
    "\n",
    "\n",
    "def multipleRandomLongPolygonVertices(m,n,N):\n",
    "    \n",
    "#     longPolygonVertices is a 6xN matrix\n",
    "    multipleLongPolygonVertices = np.zeros((6,1))\n",
    "    for k in range(N):\n",
    "        longXY = randomPolygonVertices(m,n)\n",
    "        longXY.shape = 6\n",
    "        multipleLongPolygonVertices = np.column_stack((multipleLongPolygonVertices,longXY))\n",
    "                \n",
    "    multipleLongPolygonVertices = multipleLongPolygonVertices[:,1:]\n",
    "    return multipleLongPolygonVertices\n",
    "\n",
    "        \n",
    "        "
   ]
  },
  {
   "cell_type": "code",
   "execution_count": 5,
   "metadata": {},
   "outputs": [],
   "source": [
    "def multipleLongVerticesToPolygons(longXYs,m,n):\n",
    "    \n",
    "    numVertices = longXYs.shape[1]\n",
    "    \n",
    "    multiplePolygons = np.zeros((m,n))\n",
    "    # lets iterate trhough all columns\n",
    "    for k in range(numVertices):\n",
    "        longXY = longXYs[:,k]\n",
    "\n",
    "        currentPolygon = booleanPolygon(m, n, longXY, long = True)\n",
    "        multiplePolygons = np.dstack((multiplePolygons, currentPolygon))\n",
    "        \n",
    "    return multiplePolygons[:,:,1:]"
   ]
  },
  {
   "cell_type": "code",
   "execution_count": null,
   "metadata": {},
   "outputs": [],
   "source": []
  }
 ],
 "metadata": {
  "kernelspec": {
   "display_name": "Python 3",
   "language": "python",
   "name": "python3"
  },
  "language_info": {
   "codemirror_mode": {
    "name": "ipython",
    "version": 3
   },
   "file_extension": ".py",
   "mimetype": "text/x-python",
   "name": "python",
   "nbconvert_exporter": "python",
   "pygments_lexer": "ipython3",
   "version": "3.7.1"
  }
 },
 "nbformat": 4,
 "nbformat_minor": 2
}
