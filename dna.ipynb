{
 "cells": [
  {
   "cell_type": "code",
   "execution_count": 1,
   "metadata": {},
   "outputs": [
    {
     "name": "stdout",
     "output_type": "stream",
     "text": [
      "importing Jupyter notebook from vertices_processor.ipynb\n",
      "importing Jupyter notebook from triangle_renderization.ipynb\n",
      "importing Jupyter notebook from matrix_blending.ipynb\n"
     ]
    }
   ],
   "source": [
    "import importer\n",
    "import numpy as np\n",
    "import vertices_processor as vpr\n",
    "import matrix_blending as mxb"
   ]
  },
  {
   "cell_type": "code",
   "execution_count": 2,
   "metadata": {},
   "outputs": [],
   "source": [
    "def generateRandomDna(dnaLength,m,n):\n",
    "#     dnaLength is the number of columns the dna matrix is going to have.\n",
    "#     first generate a random [0,1] interval matrix of 2 x dnaLength for the top of the matrix. This will be the random gray and alpha index.\n",
    "    grayAndAlpha = np.random.rand(1,dnaLength)\n",
    "    \n",
    "#     then generate a random matrix in the [0,m-1] and [0,n-1] intervals for the vertices of the triangles\n",
    "    multipleLongRandomPolygonVertices = vpr.multipleRandomLongPolygonVertices(m,n,dnaLength)\n",
    "    \n",
    "    randomDna = np.concatenate((grayAndAlpha, multipleLongRandomPolygonVertices), axis=0)\n",
    "    \n",
    "    return randomDna\n",
    "\n",
    "def mergePopulationOnDna(dna,population,m,n):\n",
    "    (p,q) = population.shape\n",
    "    populationDna = np.zeros((m,n))\n",
    "    for k in range(q):\n",
    "        currentIndividual = population[:,k]\n",
    "        dnaCopy = np.array(dna, copy=True)\n",
    "        currentDna = mergeIndividualOnDna(dnaCopy,currentIndividual,m,n)\n",
    "        populationDna = np.dstack((populationDna,currentDna))\n",
    "        \n",
    "    return populationDna[:,:,1:]\n",
    "        \n",
    "\n",
    "def mergeIndividualOnDna(dna,individual,m,n):\n",
    "    G = individual[0]\n",
    "    longXY = individual[1:]\n",
    "    polygon = vpr.booleanPolygon(m, n, longXY, long = True)*G\n",
    "    return mxb.blend(polygon,dna)\n",
    "    \n",
    "\n",
    "def generateRandomPop(popSize,m,n):\n",
    "    gray = np.random.rand(1,popSize)\n",
    "    \n",
    "#     then generate a random matrix in the [0,m-1] and [0,n-1] intervals for the vertices of the triangles\n",
    "    multipleLongRandomPolygonVertices = vpr.multipleRandomLongPolygonVertices(m,n,popSize)\n",
    "    \n",
    "    randomPop = np.concatenate((gray, multipleLongRandomPolygonVertices), axis=0)\n",
    "    \n",
    "    return randomPop\n",
    "    "
   ]
  },
  {
   "cell_type": "code",
   "execution_count": 40,
   "metadata": {},
   "outputs": [],
   "source": [
    "# popSize = 10\n",
    "# m = 10\n",
    "# n = 10\n",
    "# dna = np.zeros((m,n))\n",
    "\n",
    "# individual = np.array([0.4543525,2,4,5,1,9,4])\n",
    "# dna = mergeIndividualOnDna(dna,individual,m,n)\n",
    "\n",
    "# randomPop = generateRandomPop(popSize,m,n)\n",
    "# populationDna = mergePopulationOnDna(dna,randomPop,m,n)\n",
    "\n",
    "\n",
    "\n",
    "# mxb.displayImg(populationDna[:,:,3])"
   ]
  },
  {
   "cell_type": "code",
   "execution_count": 41,
   "metadata": {},
   "outputs": [],
   "source": [
    "# m = 10\n",
    "# n = 10\n",
    "# dna = np.zeros((m,n))\n",
    "# individual = np.array([0.4543525,2,4,5,1,9,4])\n",
    "# dna = mergeIndividualOnDna(dna,individual,m,n)\n",
    "\n",
    "\n",
    "# individual = np.array([0.99825,6,3,7,1,4,7])\n",
    "\n",
    "# dna = mergeIndividualOnDna(dna,individual,m,n)\n",
    "\n",
    "# individual = np.array([0.19825,8,1,3,3,7,9])\n",
    "\n",
    "# dna = mergeIndividualOnDna(dna,individual,m,n)\n",
    "# mxb.displayImg(dna)\n"
   ]
  },
  {
   "cell_type": "code",
   "execution_count": null,
   "metadata": {},
   "outputs": [],
   "source": []
  }
 ],
 "metadata": {
  "kernelspec": {
   "display_name": "Python 3",
   "language": "python",
   "name": "python3"
  },
  "language_info": {
   "codemirror_mode": {
    "name": "ipython",
    "version": 3
   },
   "file_extension": ".py",
   "mimetype": "text/x-python",
   "name": "python",
   "nbconvert_exporter": "python",
   "pygments_lexer": "ipython3",
   "version": "3.7.1"
  }
 },
 "nbformat": 4,
 "nbformat_minor": 2
}
