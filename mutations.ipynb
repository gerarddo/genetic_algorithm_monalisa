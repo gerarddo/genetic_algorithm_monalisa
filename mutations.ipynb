{
 "cells": [
  {
   "cell_type": "code",
   "execution_count": 1,
   "metadata": {},
   "outputs": [
    {
     "name": "stdout",
     "output_type": "stream",
     "text": [
      "importing Jupyter notebook from vertices_processor.ipynb\n",
      "importing Jupyter notebook from triangle_renderization.ipynb\n"
     ]
    }
   ],
   "source": [
    "import importer\n",
    "import numpy as np\n",
    "import numpy.random as rand\n",
    "import vertices_processor as vrr"
   ]
  },
  {
   "cell_type": "code",
   "execution_count": 2,
   "metadata": {},
   "outputs": [],
   "source": [
    "def randomSign():\n",
    "    return rand.randint(low=0, high=2, size=(1, 1))*2 - 1"
   ]
  },
  {
   "cell_type": "code",
   "execution_count": 3,
   "metadata": {},
   "outputs": [],
   "source": [
    "def containMutation(mutation,limits):\n",
    "    if mutation < limits[0]:\n",
    "        mutation = limits[0]\n",
    "    elif mutation > limits[1]:\n",
    "        mutation = limits[1]\n",
    "    return mutation"
   ]
  },
  {
   "cell_type": "code",
   "execution_count": 4,
   "metadata": {},
   "outputs": [],
   "source": [
    "def mutateCoordinate(toMutate, limits, avoid, mutateAmount):\n",
    "    \n",
    "    # high is a non inclusive limit, thus we have to enter the next biggest integer to include the desired limit 1\n",
    "    sign = randomSign()\n",
    "\n",
    "    mutation = toMutate + sign*mutateAmount\n",
    "    mutation = containMutation(mutation,limits) # keep the mutated number inside limits\n",
    "    \n",
    "    # check if mutation obtained must be avoided (doing this now bcs maybe you dont want the inclusive limits to be included (?))\n",
    "    if mutation in avoid:\n",
    "        # if it do is an unwanted number then repeat process with different sign\n",
    "        mutation = toMutate - sign*mutateAmount\n",
    "        mutation = containMutation(mutation,limits) # keep the mutated number inside limits\n",
    "\n",
    "    # if mutation is still something to be avoided, return original number\n",
    "    if mutation in avoid:\n",
    "        return toMutate\n",
    "    else:\n",
    "        return mutation\n",
    "    \n",
    "def maybeMutateCoordinate(toMutate, limits, avoid, mutateAmount, mutateChance):\n",
    "    rnd = rand.rand()\n",
    "\n",
    "    if rnd < mutateChance:\n",
    "        return mutateCoordinate(toMutate, limits, avoid, mutateAmount)\n",
    "    else:\n",
    "        return toMutate\n",
    "    \n",
    "# for passing non vectorized parameters solution was grabbed from this link\n",
    "# https://stackoverflow.com/questions/33587610/vectorize-accelerate-numpy-function-with-two-arguments-of-different-dimensions\n",
    "# also, check out the documentation\n",
    "# https://docs.scipy.org/doc/numpy/reference/generated/numpy.vectorize.html\n",
    "maybeMutateCoordinateVectorized = np.vectorize(maybeMutateCoordinate, excluded = [1,2,3,4])\n",
    "\n"
   ]
  },
  {
   "cell_type": "code",
   "execution_count": 5,
   "metadata": {},
   "outputs": [],
   "source": [
    "def mutateLongVertices(longXY, m, n, mutateChance, mutateAmount):\n",
    "    while True:\n",
    "        \n",
    "        avoid = []\n",
    "                \n",
    "        X = longXY[0:3]\n",
    "        limits = [0,n-1]\n",
    "        X = maybeMutateCoordinateVectorized(X, limits, avoid, mutateAmount, mutateChance)\n",
    "        \n",
    "        Y = longXY[3:6]\n",
    "        limits = [0,m-1]\n",
    "\n",
    "        Y = maybeMutateCoordinateVectorized(Y, limits, avoid, mutateAmount, mutateChance)\n",
    "        \n",
    "        XY = np.column_stack((X,Y))\n",
    "        \n",
    "        if ~vrr.repeatedVertices(XY):\n",
    "            break\n",
    "    \n",
    "    XY = np.reshape(XY, 6, order='F')\n",
    "    \n",
    "    return XY\n",
    "\n",
    "\n",
    "def mutateMultipleLongVertices(longXYs, m, n, mutateChance, mutateAmount):\n",
    "    numVertices = longXYs.shape[1]\n",
    "    \n",
    "    for k in range(numVertices):\n",
    "        longXY = longXYs[:,k]\n",
    "        longXY = mutateLongVertices(longXY, m, n, mutateChance, mutateAmount)\n",
    "        longXYs[:,k] = longXY\n",
    "        \n",
    "    return longXYs\n",
    "            "
   ]
  },
  {
   "cell_type": "code",
   "execution_count": 41,
   "metadata": {},
   "outputs": [],
   "source": [
    "def mutateGray(gray, mutationChance, mutationPercentage):\n",
    "    \n",
    "#     https://stackoverflow.com/questions/38860095/create-random-numpy-matrix-of-same-size-as-another\n",
    "#     https://docs.scipy.org/doc/numpy/reference/generated/numpy.random.rand.html\n",
    "    chancesArr = np.random.rand(*gray.shape)\n",
    "\n",
    "#     https://stackoverflow.com/questions/19766757/replacing-numpy-elements-if-condition-is-met\n",
    "    mutationArr = (chancesArr < mutationChance).astype(int)\n",
    "    \n",
    "    (M,) = np.where(mutationArr == 1)\n",
    "    \n",
    "# https://docs.scipy.org/doc/numpy/reference/generated/numpy.where.html    \n",
    "    for k in M:\n",
    "        gray[k] = gray[k] + randomSign()*gray[k]*mutationPercentage\n",
    "        \n",
    "    gray = np.where(gray > 0, gray, 0)\n",
    "    gray = np.where(gray < 1, gray, 1)\n",
    "    \n",
    "    return gray\n"
   ]
  },
  {
   "cell_type": "code",
   "execution_count": null,
   "metadata": {},
   "outputs": [],
   "source": []
  }
 ],
 "metadata": {
  "kernelspec": {
   "display_name": "Python 3",
   "language": "python",
   "name": "python3"
  },
  "language_info": {
   "codemirror_mode": {
    "name": "ipython",
    "version": 3
   },
   "file_extension": ".py",
   "mimetype": "text/x-python",
   "name": "python",
   "nbconvert_exporter": "python",
   "pygments_lexer": "ipython3",
   "version": "3.7.1"
  }
 },
 "nbformat": 4,
 "nbformat_minor": 2
}
