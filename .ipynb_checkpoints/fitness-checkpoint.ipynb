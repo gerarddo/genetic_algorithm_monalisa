{
 "cells": [
  {
   "cell_type": "code",
   "execution_count": 5,
   "metadata": {},
   "outputs": [],
   "source": [
    "import importer\n",
    "import numpy as np\n",
    "import dna\n",
    "import matplotlib.pyplot as plt\n",
    "\n",
    "\n",
    "\n",
    "import imageio as img\n",
    "from skimage import data\n",
    "from skimage.color import rgb2gray"
   ]
  },
  {
   "cell_type": "code",
   "execution_count": 6,
   "metadata": {},
   "outputs": [],
   "source": [
    "def getImage(stringPath):\n",
    "    return img.imread(stringPath)\n",
    "\n",
    "def getGrayScale(original):\n",
    "    return rgb2gray(original)\n",
    "\n",
    "def getGrayImage(stringPath):\n",
    "    original = getImage(stringPath)\n",
    "    return getGrayScale(original)"
   ]
  },
  {
   "cell_type": "code",
   "execution_count": 11,
   "metadata": {},
   "outputs": [],
   "source": [
    "def fitness(controlImg, testImg):\n",
    "    res = abs(controlImg-testImg)\n",
    "    return np.sum(res)"
   ]
  },
  {
   "cell_type": "code",
   "execution_count": 10,
   "metadata": {},
   "outputs": [],
   "source": [
    "    \n",
    "# def dnaFitness(controlImg, testDna):\n",
    "#     shp = controlImg.shape\n",
    "    \n",
    "#     testImg = dna.getDnaImg(testDna, m, n)\n",
    "#     return fitness(controlImg, testImg)\n",
    "\n",
    "\n",
    "# def orderByFitness(controlImg, population):\n",
    "#     (m,n,l) = population.shape\n",
    "    \n",
    "#     fitnesses = []\n",
    "    \n",
    "#     for k in range(l):\n",
    "#         testDna = population[:,:,k]\n",
    "#         currentFitness = dnaFitness(controlImg, testDna)\n",
    "#         fitnesses.append(dnaFitness(controlImg, testDna))\n",
    "        \n",
    "#     orderIdx = np.argsort(fitnesses)\n",
    "    \n",
    "#     orderedPopulation = np.zeros((m,n))\n",
    "#     orderedFitnesses = []\n",
    "    \n",
    "#     for idx in orderIdx:\n",
    "#         orderedPopulation = np.dstack((orderedPopulation,population[:,:,idx]))\n",
    "#         orderedFitnesses.append(fitnesses[idx])\n",
    "        \n",
    "#     return (orderedFitnesses, orderedPopulation[:,:,1:])"
   ]
  },
  {
   "cell_type": "code",
   "execution_count": null,
   "metadata": {},
   "outputs": [],
   "source": []
  }
 ],
 "metadata": {
  "kernelspec": {
   "display_name": "Python 3",
   "language": "python",
   "name": "python3"
  },
  "language_info": {
   "codemirror_mode": {
    "name": "ipython",
    "version": 3
   },
   "file_extension": ".py",
   "mimetype": "text/x-python",
   "name": "python",
   "nbconvert_exporter": "python",
   "pygments_lexer": "ipython3",
   "version": "3.7.1"
  }
 },
 "nbformat": 4,
 "nbformat_minor": 2
}
