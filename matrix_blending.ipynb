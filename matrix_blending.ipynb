{
 "cells": [
  {
   "cell_type": "code",
   "execution_count": 1,
   "metadata": {},
   "outputs": [
    {
     "name": "stdout",
     "output_type": "stream",
     "text": [
      "importing Jupyter notebook from vertices_processor.ipynb\n",
      "importing Jupyter notebook from triangle_renderization.ipynb\n"
     ]
    }
   ],
   "source": [
    "import importer\n",
    "import numpy as np\n",
    "import vertices_processor as vpr\n",
    "import matplotlib.pyplot as plt"
   ]
  },
  {
   "cell_type": "code",
   "execution_count": 2,
   "metadata": {},
   "outputs": [],
   "source": [
    "# def blend(fg,A,bg):\n",
    "# #     fg: is the foreground image. It is an NxM matrix with values in interval [0,1]\n",
    "# #     A:  alpha index. float number in interval [0,1]. This indicates how visible is the background image relative to foreground image.\n",
    "# #     bg: is the background image. It is an NxM matrix with values in interval [0,1]\n",
    "#     (mfg,nfg) = fg.shape\n",
    "#     (mbg,nbg) = bg.shape\n",
    "    \n",
    "#     if mfg == mbg:\n",
    "#         m = mfg\n",
    "\n",
    "#     if nfg == nbg:\n",
    "#         n = nfg\n",
    "\n",
    "#     blended = fg*A + bg*(np.ones((m,n))-A)\n",
    "    \n",
    "#     return blended\n",
    "\n",
    "\n",
    "def blend(fg,bg):\n",
    "#     fg: is the foreground image. It is an NxM matrix with values in interval [0,1]\n",
    "#     A:  alpha index. float number in interval [0,1]. This indicates how visible is the background image relative to foreground image.\n",
    "#     bg: is the background image. It is an NxM matrix with values in interval [0,1]\n",
    "    (mfg,nfg) = fg.shape\n",
    "    (mbg,nbg) = bg.shape\n",
    "    \n",
    "    if mfg == mbg:\n",
    "        m = mfg\n",
    "\n",
    "    if nfg == nbg:\n",
    "        n = nfg\n",
    "\n",
    "\n",
    "\n",
    "    fgbool = np.array(fg,copy=True)\n",
    "    fgbool[fgbool > 0] = 1\n",
    "\n",
    "\n",
    "\n",
    "    diff = fgbool - bg\n",
    "    diff[diff < 0] = 0\n",
    "\n",
    "\n",
    "    T = diff+bg-(fgbool-fg)\n",
    "\n",
    "    \n",
    "    return T\n",
    "\n",
    "\n",
    "\n",
    "\n",
    "\n",
    "def blendMultipleMatrices(multipleMatrices, G):\n",
    "    \n",
    "    (m,n,l) = multipleMatrices.shape\n",
    "    \n",
    "    finalImg = np.zeros((m,n))\n",
    "    \n",
    "    for k in range(0,l):\n",
    "        gray = G[k]\n",
    "#         finalImg = finalImg + multipleMatrices[:,:,k]*alpha*gray\n",
    "        finalImg = blend(multipleMatrices[:,:,k]*gray,finalImg)\n",
    "\n",
    "#     finalImg = (finalImg-np.min(finalImg))/(np.max(finalImg)-np.min(finalImg))\n",
    "    return finalImg\n"
   ]
  },
  {
   "cell_type": "code",
   "execution_count": 3,
   "metadata": {},
   "outputs": [],
   "source": [
    "def displayImg(matrix, show = True):\n",
    "    im = plt.imshow(matrix, cmap='gray', vmin=0, vmax=1)\n",
    "    if show:\n",
    "        plt.show()\n",
    "        \n",
    "    return im\n",
    "    \n",
    "    \n",
    "def displayMultiplePolygons(multiplePolygons, G):\n",
    "    finalImg = blendMultipleMatrices(multiplePolygons, G)\n",
    "    displayImg(finalImg)\n",
    "    return finalImg\n",
    "\n",
    "    "
   ]
  },
  {
   "cell_type": "code",
   "execution_count": null,
   "metadata": {},
   "outputs": [],
   "source": []
  },
  {
   "cell_type": "code",
   "execution_count": null,
   "metadata": {},
   "outputs": [],
   "source": []
  }
 ],
 "metadata": {
  "kernelspec": {
   "display_name": "Python 3",
   "language": "python",
   "name": "python3"
  },
  "language_info": {
   "codemirror_mode": {
    "name": "ipython",
    "version": 3
   },
   "file_extension": ".py",
   "mimetype": "text/x-python",
   "name": "python",
   "nbconvert_exporter": "python",
   "pygments_lexer": "ipython3",
   "version": "3.7.3"
  }
 },
 "nbformat": 4,
 "nbformat_minor": 2
}
